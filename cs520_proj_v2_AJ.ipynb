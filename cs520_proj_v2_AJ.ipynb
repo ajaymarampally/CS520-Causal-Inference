{
 "cells": [
  {
   "cell_type": "code",
   "execution_count": 1,
   "metadata": {},
   "outputs": [
    {
     "name": "stderr",
     "output_type": "stream",
     "text": [
      "No GPU automatically detected. Setting SETTINGS.GPU to 0, and SETTINGS.NJOBS to cpu_count.\n"
     ]
    }
   ],
   "source": [
    "# imports\n",
    "import dowhy\n",
    "import pandas as pd\n",
    "import numpy as np\n",
    "import matplotlib.pyplot as plt\n",
    "import econml\n",
    "import seaborn as sns\n",
    "from IPython.display import Image, display\n",
    "import graphviz\n",
    "\n",
    "from sklearn.preprocessing import PolynomialFeatures\n",
    "from sklearn.linear_model import LassoCV\n",
    "from sklearn.ensemble import GradientBoostingRegressor\n",
    "from sklearn.preprocessing import LabelEncoder\n",
    "\n",
    "from causalnex.structure import StructureModel\n",
    "import networkx as nx\n",
    "from cdt.causality.graph import PC\n",
    "from causalnex.network import BayesianNetwork\n",
    "import cdt\n",
    "\n",
    "from causalnex.structure.notears import from_pandas\n",
    "from causalnex.plots import plot_structure\n",
    "import networkx as nx"
   ]
  },
  {
   "cell_type": "code",
   "execution_count": 2,
   "metadata": {},
   "outputs": [
    {
     "data": {
      "text/html": [
       "<div>\n",
       "<style scoped>\n",
       "    .dataframe tbody tr th:only-of-type {\n",
       "        vertical-align: middle;\n",
       "    }\n",
       "\n",
       "    .dataframe tbody tr th {\n",
       "        vertical-align: top;\n",
       "    }\n",
       "\n",
       "    .dataframe thead th {\n",
       "        text-align: right;\n",
       "    }\n",
       "</style>\n",
       "<table border=\"1\" class=\"dataframe\">\n",
       "  <thead>\n",
       "    <tr style=\"text-align: right;\">\n",
       "      <th></th>\n",
       "      <th>hotel</th>\n",
       "      <th>is_canceled</th>\n",
       "      <th>lead_time</th>\n",
       "      <th>arrival_date_year</th>\n",
       "      <th>arrival_date_month</th>\n",
       "      <th>arrival_date_week_number</th>\n",
       "      <th>arrival_date_day_of_month</th>\n",
       "      <th>stays_in_weekend_nights</th>\n",
       "      <th>stays_in_week_nights</th>\n",
       "      <th>adults</th>\n",
       "      <th>...</th>\n",
       "      <th>deposit_type</th>\n",
       "      <th>agent</th>\n",
       "      <th>company</th>\n",
       "      <th>days_in_waiting_list</th>\n",
       "      <th>customer_type</th>\n",
       "      <th>adr</th>\n",
       "      <th>required_car_parking_spaces</th>\n",
       "      <th>total_of_special_requests</th>\n",
       "      <th>reservation_status</th>\n",
       "      <th>reservation_status_date</th>\n",
       "    </tr>\n",
       "  </thead>\n",
       "  <tbody>\n",
       "    <tr>\n",
       "      <th>0</th>\n",
       "      <td>Resort Hotel</td>\n",
       "      <td>0</td>\n",
       "      <td>342</td>\n",
       "      <td>2015</td>\n",
       "      <td>July</td>\n",
       "      <td>27</td>\n",
       "      <td>1</td>\n",
       "      <td>0</td>\n",
       "      <td>0</td>\n",
       "      <td>2</td>\n",
       "      <td>...</td>\n",
       "      <td>No Deposit</td>\n",
       "      <td>NaN</td>\n",
       "      <td>NaN</td>\n",
       "      <td>0</td>\n",
       "      <td>Transient</td>\n",
       "      <td>0.0</td>\n",
       "      <td>0</td>\n",
       "      <td>0</td>\n",
       "      <td>Check-Out</td>\n",
       "      <td>2015-07-01</td>\n",
       "    </tr>\n",
       "    <tr>\n",
       "      <th>1</th>\n",
       "      <td>Resort Hotel</td>\n",
       "      <td>0</td>\n",
       "      <td>737</td>\n",
       "      <td>2015</td>\n",
       "      <td>July</td>\n",
       "      <td>27</td>\n",
       "      <td>1</td>\n",
       "      <td>0</td>\n",
       "      <td>0</td>\n",
       "      <td>2</td>\n",
       "      <td>...</td>\n",
       "      <td>No Deposit</td>\n",
       "      <td>NaN</td>\n",
       "      <td>NaN</td>\n",
       "      <td>0</td>\n",
       "      <td>Transient</td>\n",
       "      <td>0.0</td>\n",
       "      <td>0</td>\n",
       "      <td>0</td>\n",
       "      <td>Check-Out</td>\n",
       "      <td>2015-07-01</td>\n",
       "    </tr>\n",
       "    <tr>\n",
       "      <th>2</th>\n",
       "      <td>Resort Hotel</td>\n",
       "      <td>0</td>\n",
       "      <td>7</td>\n",
       "      <td>2015</td>\n",
       "      <td>July</td>\n",
       "      <td>27</td>\n",
       "      <td>1</td>\n",
       "      <td>0</td>\n",
       "      <td>1</td>\n",
       "      <td>1</td>\n",
       "      <td>...</td>\n",
       "      <td>No Deposit</td>\n",
       "      <td>NaN</td>\n",
       "      <td>NaN</td>\n",
       "      <td>0</td>\n",
       "      <td>Transient</td>\n",
       "      <td>75.0</td>\n",
       "      <td>0</td>\n",
       "      <td>0</td>\n",
       "      <td>Check-Out</td>\n",
       "      <td>2015-07-02</td>\n",
       "    </tr>\n",
       "    <tr>\n",
       "      <th>3</th>\n",
       "      <td>Resort Hotel</td>\n",
       "      <td>0</td>\n",
       "      <td>13</td>\n",
       "      <td>2015</td>\n",
       "      <td>July</td>\n",
       "      <td>27</td>\n",
       "      <td>1</td>\n",
       "      <td>0</td>\n",
       "      <td>1</td>\n",
       "      <td>1</td>\n",
       "      <td>...</td>\n",
       "      <td>No Deposit</td>\n",
       "      <td>304.0</td>\n",
       "      <td>NaN</td>\n",
       "      <td>0</td>\n",
       "      <td>Transient</td>\n",
       "      <td>75.0</td>\n",
       "      <td>0</td>\n",
       "      <td>0</td>\n",
       "      <td>Check-Out</td>\n",
       "      <td>2015-07-02</td>\n",
       "    </tr>\n",
       "    <tr>\n",
       "      <th>4</th>\n",
       "      <td>Resort Hotel</td>\n",
       "      <td>0</td>\n",
       "      <td>14</td>\n",
       "      <td>2015</td>\n",
       "      <td>July</td>\n",
       "      <td>27</td>\n",
       "      <td>1</td>\n",
       "      <td>0</td>\n",
       "      <td>2</td>\n",
       "      <td>2</td>\n",
       "      <td>...</td>\n",
       "      <td>No Deposit</td>\n",
       "      <td>240.0</td>\n",
       "      <td>NaN</td>\n",
       "      <td>0</td>\n",
       "      <td>Transient</td>\n",
       "      <td>98.0</td>\n",
       "      <td>0</td>\n",
       "      <td>1</td>\n",
       "      <td>Check-Out</td>\n",
       "      <td>2015-07-03</td>\n",
       "    </tr>\n",
       "  </tbody>\n",
       "</table>\n",
       "<p>5 rows × 32 columns</p>\n",
       "</div>"
      ],
      "text/plain": [
       "          hotel  is_canceled  lead_time  arrival_date_year arrival_date_month  \\\n",
       "0  Resort Hotel            0        342               2015               July   \n",
       "1  Resort Hotel            0        737               2015               July   \n",
       "2  Resort Hotel            0          7               2015               July   \n",
       "3  Resort Hotel            0         13               2015               July   \n",
       "4  Resort Hotel            0         14               2015               July   \n",
       "\n",
       "   arrival_date_week_number  arrival_date_day_of_month  \\\n",
       "0                        27                          1   \n",
       "1                        27                          1   \n",
       "2                        27                          1   \n",
       "3                        27                          1   \n",
       "4                        27                          1   \n",
       "\n",
       "   stays_in_weekend_nights  stays_in_week_nights  adults  ...  deposit_type  \\\n",
       "0                        0                     0       2  ...    No Deposit   \n",
       "1                        0                     0       2  ...    No Deposit   \n",
       "2                        0                     1       1  ...    No Deposit   \n",
       "3                        0                     1       1  ...    No Deposit   \n",
       "4                        0                     2       2  ...    No Deposit   \n",
       "\n",
       "   agent company days_in_waiting_list customer_type   adr  \\\n",
       "0    NaN     NaN                    0     Transient   0.0   \n",
       "1    NaN     NaN                    0     Transient   0.0   \n",
       "2    NaN     NaN                    0     Transient  75.0   \n",
       "3  304.0     NaN                    0     Transient  75.0   \n",
       "4  240.0     NaN                    0     Transient  98.0   \n",
       "\n",
       "   required_car_parking_spaces  total_of_special_requests  reservation_status  \\\n",
       "0                            0                          0           Check-Out   \n",
       "1                            0                          0           Check-Out   \n",
       "2                            0                          0           Check-Out   \n",
       "3                            0                          0           Check-Out   \n",
       "4                            0                          1           Check-Out   \n",
       "\n",
       "  reservation_status_date  \n",
       "0              2015-07-01  \n",
       "1              2015-07-01  \n",
       "2              2015-07-02  \n",
       "3              2015-07-02  \n",
       "4              2015-07-03  \n",
       "\n",
       "[5 rows x 32 columns]"
      ]
     },
     "execution_count": 2,
     "metadata": {},
     "output_type": "execute_result"
    }
   ],
   "source": [
    "# data set loading\n",
    "dataset = pd.read_csv('hotel_bookings.csv')\n",
    "dataset.head()"
   ]
  },
  {
   "cell_type": "code",
   "execution_count": 3,
   "metadata": {},
   "outputs": [],
   "source": [
    "# data cleaning and transformation and feature engineering. \n",
    "\n",
    "# deposit_type to deposit or not\n",
    "dataset['deposit_type']=dataset['deposit_type'].replace('No Deposit',False)\n",
    "dataset['deposit_type']=dataset['deposit_type'].replace('Non Refund',True)\n",
    "dataset['deposit_type']=dataset['deposit_type'].replace('Refundable',True)\n",
    "dataset.columns = dataset.columns.str.replace('deposit_type', 'deposit')\n",
    "\n",
    "# total stay \n",
    "dataset['total_stay'] = dataset['stays_in_week_nights']+dataset['stays_in_weekend_nights']\n",
    "# Total number of guests\n",
    "dataset['guests'] = dataset['adults']+dataset['children'] +dataset['babies']\n",
    "# Creating the different_room_assigned feature\n",
    "dataset['different_room_assigned']=0\n",
    "slice_indices =dataset['reserved_room_type']!=dataset['assigned_room_type']\n",
    "dataset.loc[slice_indices,'different_room_assigned']=1\n",
    "# Deleting older features\n",
    "dataset = dataset.drop(['stays_in_week_nights','stays_in_weekend_nights','adults','children','babies'\n",
    "                        ,'reserved_room_type','assigned_room_type'],axis=1)"
   ]
  },
  {
   "cell_type": "code",
   "execution_count": 4,
   "metadata": {},
   "outputs": [
    {
     "data": {
      "text/plain": [
       "hotel                                  0\n",
       "is_canceled                            0\n",
       "lead_time                              0\n",
       "arrival_date_year                      0\n",
       "arrival_date_month                     0\n",
       "arrival_date_week_number               0\n",
       "arrival_date_day_of_month              0\n",
       "meal                                   0\n",
       "country                              488\n",
       "market_segment                         0\n",
       "distribution_channel                   0\n",
       "is_repeated_guest                      0\n",
       "previous_cancellations                 0\n",
       "previous_bookings_not_canceled         0\n",
       "booking_changes                        0\n",
       "deposit                                0\n",
       "agent                              16340\n",
       "company                           112593\n",
       "days_in_waiting_list                   0\n",
       "customer_type                          0\n",
       "adr                                    0\n",
       "required_car_parking_spaces            0\n",
       "total_of_special_requests              0\n",
       "reservation_status                     0\n",
       "reservation_status_date                0\n",
       "total_stay                             0\n",
       "guests                                 4\n",
       "different_room_assigned                0\n",
       "dtype: int64"
      ]
     },
     "execution_count": 4,
     "metadata": {},
     "output_type": "execute_result"
    }
   ],
   "source": [
    "dataset.isnull().sum() # Country,Agent,Company contain 488,16340,112593 missing entries "
   ]
  },
  {
   "cell_type": "code",
   "execution_count": 5,
   "metadata": {},
   "outputs": [],
   "source": [
    "# agent, company columns has a lot of missing values. So, dropping those features. \n",
    "dataset = dataset.drop(['agent','company'],axis=1)"
   ]
  },
  {
   "cell_type": "code",
   "execution_count": 6,
   "metadata": {},
   "outputs": [],
   "source": [
    "# Replacing missing countries with most freqently occuring countries\n",
    "dataset['country']= dataset['country'].fillna(dataset['country'].mode()[0])"
   ]
  },
  {
   "cell_type": "code",
   "execution_count": 7,
   "metadata": {},
   "outputs": [
    {
     "name": "stdout",
     "output_type": "stream",
     "text": [
      "Check-Out    75166\n",
      "Canceled     43017\n",
      "No-Show       1207\n",
      "Name: reservation_status, dtype: int64\n",
      "---\n",
      "0    75166\n",
      "1    44224\n",
      "Name: is_canceled, dtype: int64\n",
      "[reservation_status] feature dropped\n"
     ]
    }
   ],
   "source": [
    "# reservation_status and is_canceled features are same. \n",
    "# is_canceled[1] == reservation_status[canceled + no-show]\n",
    "# so removing the reservation_status feature from the dataset\n",
    "print (dataset['reservation_status'].value_counts())\n",
    "print (\"---\")\n",
    "print (dataset['is_canceled'].value_counts())\n",
    "dataset = dataset.drop(['reservation_status'], axis=1)\n",
    "print (\"[reservation_status] feature dropped\")"
   ]
  },
  {
   "cell_type": "code",
   "execution_count": 8,
   "metadata": {},
   "outputs": [],
   "source": [
    "# lead_time is more useful feature for this project than \"reservation_status_date\". So removing that feature. \n",
    "dataset = dataset.drop(['reservation_status_date'], axis=1)\n",
    "\n",
    "# dropping features which are less relevant from causal analysis point of view. \n",
    "dataset = dataset.drop(['arrival_date_day_of_month', 'arrival_date_year'], axis=1)"
   ]
  },
  {
   "cell_type": "code",
   "execution_count": 9,
   "metadata": {},
   "outputs": [
    {
     "name": "stdout",
     "output_type": "stream",
     "text": [
      "hotel                             0\n",
      "is_canceled                       0\n",
      "lead_time                         0\n",
      "arrival_date_month                0\n",
      "arrival_date_week_number          0\n",
      "meal                              0\n",
      "country                           0\n",
      "market_segment                    0\n",
      "distribution_channel              0\n",
      "is_repeated_guest                 0\n",
      "previous_cancellations            0\n",
      "previous_bookings_not_canceled    0\n",
      "booking_changes                   0\n",
      "deposit                           0\n",
      "days_in_waiting_list              0\n",
      "customer_type                     0\n",
      "adr                               0\n",
      "required_car_parking_spaces       0\n",
      "total_of_special_requests         0\n",
      "total_stay                        0\n",
      "guests                            4\n",
      "different_room_assigned           0\n",
      "dtype: int64\n"
     ]
    }
   ],
   "source": [
    "print (dataset.isnull().sum())\n",
    "# very few records are missing. So dropping those records.\n",
    "dataset = dataset.dropna()"
   ]
  },
  {
   "cell_type": "code",
   "execution_count": 10,
   "metadata": {},
   "outputs": [],
   "source": [
    "# Replacing 1 by True and 0 by False for the experiment and outcome variables\n",
    "dataset['different_room_assigned']= dataset['different_room_assigned'].replace(1,True)\n",
    "dataset['different_room_assigned']= dataset['different_room_assigned'].replace(0,False)\n",
    "dataset['is_canceled']= dataset['is_canceled'].replace(1,True)\n",
    "dataset['is_canceled']= dataset['is_canceled'].replace(0,False)"
   ]
  },
  {
   "cell_type": "code",
   "execution_count": 11,
   "metadata": {},
   "outputs": [],
   "source": [
    "# dropping features which are less relevant from causal analysis point of view. \n",
    "dataset = dataset.drop(['hotel', 'arrival_date_week_number', 'meal'], axis=1)"
   ]
  },
  {
   "cell_type": "code",
   "execution_count": 12,
   "metadata": {},
   "outputs": [],
   "source": [
    "# converting the months to seasons\n",
    "season_map = {'January':'Winter', 'February':'Winter', 'March':'Spring', 'April':'Spring', 'May':'Spring'\n",
    "              , 'June':\"Summer\", 'July':'Summer', 'August':'Summer', 'September':'Fall', 'October':'Fall'\n",
    "              , 'November':'Fall', 'December':'Winter'}\n",
    "dataset['arrival_season'] = dataset['arrival_date_month'].map(season_map)\n",
    "dataset = dataset.drop(['arrival_date_month'], axis=1)"
   ]
  },
  {
   "cell_type": "code",
   "execution_count": 13,
   "metadata": {},
   "outputs": [
    {
     "data": {
      "text/plain": [
       "Summer    31.388102\n",
       "Spring    27.368368\n",
       "Fall      23.840316\n",
       "Winter    17.403213\n",
       "Name: arrival_season, dtype: float64"
      ]
     },
     "execution_count": 13,
     "metadata": {},
     "output_type": "execute_result"
    }
   ],
   "source": [
    "# summer, spring hotel bookings are higher than rest. \n",
    "dataset[\"arrival_season\"].value_counts()/len(dataset)*100"
   ]
  },
  {
   "cell_type": "code",
   "execution_count": 14,
   "metadata": {},
   "outputs": [
    {
     "name": "stdout",
     "output_type": "stream",
     "text": [
      "177\n",
      "Online TA        56476\n",
      "Offline TA/TO    24219\n",
      "Groups           19811\n",
      "Direct           12605\n",
      "Corporate         5295\n",
      "Complementary      743\n",
      "Aviation           237\n",
      "Name: market_segment, dtype: int64\n",
      "TA/TO        97870\n",
      "Direct       14645\n",
      "Corporate     6677\n",
      "GDS            193\n",
      "Undefined        1\n",
      "Name: distribution_channel, dtype: int64\n"
     ]
    }
   ],
   "source": [
    "# todo: country, market_segment, distribution_channel  feature\n",
    "print (len(dataset['country'].unique()))\n",
    "print (dataset['market_segment'].value_counts())\n",
    "print (dataset['distribution_channel'].value_counts())"
   ]
  },
  {
   "cell_type": "code",
   "execution_count": 15,
   "metadata": {},
   "outputs": [],
   "source": [
    "# dropping features which are less relevant from causal analysis point of view. \n",
    "dataset = dataset.drop(['country', 'market_segment', 'distribution_channel'], axis=1)"
   ]
  },
  {
   "cell_type": "code",
   "execution_count": 16,
   "metadata": {},
   "outputs": [],
   "source": [
    "def map_prev_cancellations(x):\n",
    "    if (x<10):\n",
    "        return \"low\"\n",
    "    elif (x>=10 and x<16):\n",
    "        return \"medium\"\n",
    "    else:\n",
    "        return 'high'"
   ]
  },
  {
   "cell_type": "code",
   "execution_count": 17,
   "metadata": {},
   "outputs": [],
   "source": [
    "dataset['previous_cancellations'] = dataset['previous_cancellations'].map(map_prev_cancellations)"
   ]
  },
  {
   "cell_type": "code",
   "execution_count": 18,
   "metadata": {},
   "outputs": [
    {
     "data": {
      "text/plain": [
       "low       119206\n",
       "high         119\n",
       "medium        61\n",
       "Name: previous_cancellations, dtype: int64"
      ]
     },
     "execution_count": 18,
     "metadata": {},
     "output_type": "execute_result"
    }
   ],
   "source": [
    "dataset['previous_cancellations'].value_counts()"
   ]
  },
  {
   "cell_type": "code",
   "execution_count": 19,
   "metadata": {},
   "outputs": [],
   "source": [
    "def map_prev_retention(x):\n",
    "    if (x<3):\n",
    "        return \"low\"\n",
    "    elif (x>=3 and x<10):\n",
    "        return \"medium\"\n",
    "    else:\n",
    "        return \"high\""
   ]
  },
  {
   "cell_type": "code",
   "execution_count": 20,
   "metadata": {},
   "outputs": [],
   "source": [
    "dataset['previous_bookings_retention'] = dataset['previous_bookings_not_canceled'].map(map_prev_cancellations)\n",
    "dataset = dataset.drop(['previous_bookings_not_canceled'], axis=1)"
   ]
  },
  {
   "cell_type": "code",
   "execution_count": 21,
   "metadata": {},
   "outputs": [
    {
     "data": {
      "text/plain": [
       "low       118964\n",
       "medium       212\n",
       "high         210\n",
       "Name: previous_bookings_retention, dtype: int64"
      ]
     },
     "execution_count": 21,
     "metadata": {},
     "output_type": "execute_result"
    }
   ],
   "source": [
    "dataset['previous_bookings_retention'].value_counts()"
   ]
  },
  {
   "cell_type": "code",
   "execution_count": 22,
   "metadata": {},
   "outputs": [
    {
     "data": {
      "text/plain": [
       "0     101310\n",
       "1      12701\n",
       "2       3805\n",
       "3        927\n",
       "4        376\n",
       "5        118\n",
       "6         63\n",
       "7         31\n",
       "8         17\n",
       "9          8\n",
       "10         6\n",
       "13         5\n",
       "14         5\n",
       "15         3\n",
       "11         2\n",
       "12         2\n",
       "16         2\n",
       "17         2\n",
       "18         1\n",
       "20         1\n",
       "21         1\n",
       "Name: booking_changes, dtype: int64"
      ]
     },
     "execution_count": 22,
     "metadata": {},
     "output_type": "execute_result"
    }
   ],
   "source": [
    "# mapping booking_changes to categorical values. \n",
    "dataset['booking_changes'].value_counts()"
   ]
  },
  {
   "cell_type": "code",
   "execution_count": 23,
   "metadata": {},
   "outputs": [],
   "source": [
    "def map_booking_changes(x):\n",
    "    if (x==0):\n",
    "        return \"none\"\n",
    "    elif (x>0 and x<3):\n",
    "        return \"low\"\n",
    "    elif (x>=3 and x<9):\n",
    "        return \"medium\"\n",
    "    elif (x>=9):\n",
    "        return 'high'"
   ]
  },
  {
   "cell_type": "code",
   "execution_count": 24,
   "metadata": {},
   "outputs": [],
   "source": [
    "dataset['booking_changes'] = dataset['booking_changes'].map(map_booking_changes)"
   ]
  },
  {
   "cell_type": "code",
   "execution_count": 25,
   "metadata": {},
   "outputs": [
    {
     "data": {
      "text/plain": [
       "none      101310\n",
       "low        16506\n",
       "medium      1532\n",
       "high          38\n",
       "Name: booking_changes, dtype: int64"
      ]
     },
     "execution_count": 25,
     "metadata": {},
     "output_type": "execute_result"
    }
   ],
   "source": [
    "dataset['booking_changes'].value_counts()"
   ]
  },
  {
   "cell_type": "code",
   "execution_count": 26,
   "metadata": {},
   "outputs": [],
   "source": [
    "pd.set_option(\"display.max_rows\", 20)"
   ]
  },
  {
   "cell_type": "code",
   "execution_count": 27,
   "metadata": {},
   "outputs": [
    {
     "data": {
      "text/plain": [
       "0      115688\n",
       "1          12\n",
       "2           5\n",
       "3          59\n",
       "4          25\n",
       "        ...  \n",
       "236        35\n",
       "259        10\n",
       "330        15\n",
       "379        15\n",
       "391        45\n",
       "Name: days_in_waiting_list, Length: 128, dtype: int64"
      ]
     },
     "execution_count": 27,
     "metadata": {},
     "output_type": "execute_result"
    }
   ],
   "source": [
    "# majority of them had no waiting list. \n",
    "dataset['days_in_waiting_list'].value_counts().sort_index()"
   ]
  },
  {
   "cell_type": "code",
   "execution_count": 28,
   "metadata": {},
   "outputs": [],
   "source": [
    "def map_waiting_list(x):\n",
    "    if (x==0):\n",
    "        return \"none\"\n",
    "    elif (x>0 and x<=30):\n",
    "        return \"1month\"\n",
    "    elif (x>30 and x<=90):\n",
    "        return \"1-3months\"\n",
    "    elif (x>90):\n",
    "        return 'more_than_3months'\n",
    "    \n",
    "dataset['days_in_waiting_list'] = dataset['days_in_waiting_list'].map(map_waiting_list)\n"
   ]
  },
  {
   "cell_type": "code",
   "execution_count": 29,
   "metadata": {},
   "outputs": [
    {
     "data": {
      "text/plain": [
       "none                 115688\n",
       "1-3months              2138\n",
       "more_than_3months       968\n",
       "1month                  592\n",
       "Name: days_in_waiting_list, dtype: int64"
      ]
     },
     "execution_count": 29,
     "metadata": {},
     "output_type": "execute_result"
    }
   ],
   "source": [
    "dataset['days_in_waiting_list'].value_counts()"
   ]
  },
  {
   "cell_type": "code",
   "execution_count": 30,
   "metadata": {},
   "outputs": [
    {
     "name": "stdout",
     "output_type": "stream",
     "text": [
      "Transient          89613\n",
      "Transient-Party    25120\n",
      "Contract            4076\n",
      "Group                577\n",
      "Name: customer_type, dtype: int64\n"
     ]
    }
   ],
   "source": [
    "# todo: customer_type is not significant feature for booking cancellation causal analysis\n",
    "print(dataset['customer_type'].value_counts())\n",
    "dataset = dataset.drop(['customer_type'], axis=1)"
   ]
  },
  {
   "cell_type": "code",
   "execution_count": 31,
   "metadata": {},
   "outputs": [
    {
     "data": {
      "text/plain": [
       "<AxesSubplot:xlabel='adr', ylabel='Count'>"
      ]
     },
     "execution_count": 31,
     "metadata": {},
     "output_type": "execute_result"
    },
    {
     "data": {
      "image/png": "[encoded data removed]",
      "text/plain": [
       "<Figure size 432x288 with 1 Axes>"
      ]
     },
     "metadata": {
      "needs_background": "light"
     },
     "output_type": "display_data"
    }
   ],
   "source": [
    "# dataset['adr'].value_counts()\n",
    "sns.histplot(dataset['adr'])\n",
    "# dataset.hist(column=['adr'], bins=10, low=0, high=1000)"
   ]
  },
  {
   "cell_type": "code",
   "execution_count": 32,
   "metadata": {},
   "outputs": [],
   "source": [
    "# transforming the adr using standard scalar approach\n",
    "dataset['adr'] = (dataset['adr'] - dataset['adr'].mean())/dataset['adr'].std()"
   ]
  },
  {
   "cell_type": "code",
   "execution_count": 33,
   "metadata": {},
   "outputs": [
    {
     "data": {
      "text/plain": [
       "0        -2.015123\n",
       "1        -2.015123\n",
       "2        -0.530993\n",
       "3        -0.530993\n",
       "4        -0.075860\n",
       "            ...   \n",
       "119385   -0.112666\n",
       "119386    2.445776\n",
       "119387    1.105706\n",
       "119388    0.050786\n",
       "119389    0.976883\n",
       "Name: adr, Length: 119386, dtype: float64"
      ]
     },
     "execution_count": 33,
     "metadata": {},
     "output_type": "execute_result"
    }
   ],
   "source": [
    "dataset['adr']"
   ]
  },
  {
   "cell_type": "code",
   "execution_count": 34,
   "metadata": {},
   "outputs": [
    {
     "data": {
      "text/plain": [
       "0    111970\n",
       "1      7383\n",
       "2        28\n",
       "3         3\n",
       "8         2\n",
       "Name: required_car_parking_spaces, dtype: int64"
      ]
     },
     "execution_count": 34,
     "metadata": {},
     "output_type": "execute_result"
    }
   ],
   "source": [
    "dataset['required_car_parking_spaces'].value_counts()"
   ]
  },
  {
   "cell_type": "code",
   "execution_count": 35,
   "metadata": {},
   "outputs": [],
   "source": [
    "# converting required_car_parking_spaces to yes/no\n",
    "def map_car_parking(x):\n",
    "    if (x==0):\n",
    "        return False\n",
    "    else:\n",
    "        return True\n",
    "dataset['required_car_parking'] = dataset['required_car_parking_spaces'].map(map_car_parking)\n",
    "dataset = dataset.drop(['required_car_parking_spaces'], axis=1)"
   ]
  },
  {
   "cell_type": "code",
   "execution_count": 36,
   "metadata": {},
   "outputs": [
    {
     "data": {
      "text/plain": [
       "False    111970\n",
       "True       7416\n",
       "Name: required_car_parking, dtype: int64"
      ]
     },
     "execution_count": 36,
     "metadata": {},
     "output_type": "execute_result"
    }
   ],
   "source": [
    "dataset['required_car_parking'].value_counts()"
   ]
  },
  {
   "cell_type": "code",
   "execution_count": 37,
   "metadata": {},
   "outputs": [
    {
     "data": {
      "text/plain": [
       "0    70318\n",
       "1    33223\n",
       "2    12968\n",
       "3     2497\n",
       "4      340\n",
       "5       40\n",
       "Name: total_of_special_requests, dtype: int64"
      ]
     },
     "execution_count": 37,
     "metadata": {},
     "output_type": "execute_result"
    }
   ],
   "source": [
    "dataset['total_of_special_requests'].value_counts()"
   ]
  },
  {
   "cell_type": "code",
   "execution_count": 38,
   "metadata": {},
   "outputs": [],
   "source": [
    "# special requests made or not. \n",
    "def map_special_requests(x):\n",
    "    if (x==0):\n",
    "        return False\n",
    "    else:\n",
    "        return True\n",
    "dataset['special_requests_made'] = dataset['total_of_special_requests'].map(map_special_requests)\n",
    "dataset = dataset.drop(['total_of_special_requests'], axis=1)"
   ]
  },
  {
   "cell_type": "code",
   "execution_count": 39,
   "metadata": {},
   "outputs": [
    {
     "data": {
      "text/plain": [
       "<AxesSubplot:xlabel='lead_time', ylabel='Count'>"
      ]
     },
     "execution_count": 39,
     "metadata": {},
     "output_type": "execute_result"
    },
    {
     "data": {
      "image/png": "[encoded data removed]",
      "text/plain": [
       "<Figure size 432x288 with 1 Axes>"
      ]
     },
     "metadata": {
      "needs_background": "light"
     },
     "output_type": "display_data"
    }
   ],
   "source": [
    "# converting continuous lead time to categorical lead time. \n",
    "sns.histplot(dataset['lead_time'])"
   ]
  },
  {
   "cell_type": "code",
   "execution_count": 40,
   "metadata": {},
   "outputs": [],
   "source": [
    "def map_lead_time(x):\n",
    "    if (x==0):\n",
    "        return \"none\"\n",
    "    elif (x>0 and x<=30):\n",
    "        return \"1month\"\n",
    "    elif (x>30 and x<=90):\n",
    "        return \"1-3months\"\n",
    "    elif (x>90 and x<180):\n",
    "        return '3-6months'\n",
    "    elif (x>180):\n",
    "        return 'more_than_6months'\n",
    "dataset['lead_time'] = dataset['lead_time'].map(map_lead_time)"
   ]
  },
  {
   "cell_type": "code",
   "execution_count": 41,
   "metadata": {},
   "outputs": [
    {
     "data": {
      "text/plain": [
       "0         0\n",
       "1         0\n",
       "2         1\n",
       "3         1\n",
       "4         2\n",
       "         ..\n",
       "119385    7\n",
       "119386    7\n",
       "119387    7\n",
       "119388    7\n",
       "119389    9\n",
       "Name: total_stay, Length: 119386, dtype: int64"
      ]
     },
     "execution_count": 41,
     "metadata": {},
     "output_type": "execute_result"
    }
   ],
   "source": [
    "# keeping this as it is\n",
    "dataset['total_stay']"
   ]
  },
  {
   "cell_type": "code",
   "execution_count": 42,
   "metadata": {},
   "outputs": [
    {
     "data": {
      "text/plain": [
       "0         2.0\n",
       "1         2.0\n",
       "2         1.0\n",
       "3         1.0\n",
       "4         2.0\n",
       "         ... \n",
       "119385    2.0\n",
       "119386    3.0\n",
       "119387    2.0\n",
       "119388    2.0\n",
       "119389    2.0\n",
       "Name: guests, Length: 119386, dtype: float64"
      ]
     },
     "execution_count": 42,
     "metadata": {},
     "output_type": "execute_result"
    }
   ],
   "source": [
    "# keeping this as it is\n",
    "dataset['guests']"
   ]
  },
  {
   "cell_type": "code",
   "execution_count": 43,
   "metadata": {},
   "outputs": [
    {
     "data": {
      "text/plain": [
       "0         False\n",
       "1         False\n",
       "2          True\n",
       "3         False\n",
       "4         False\n",
       "          ...  \n",
       "119385    False\n",
       "119386    False\n",
       "119387    False\n",
       "119388    False\n",
       "119389    False\n",
       "Name: different_room_assigned, Length: 119386, dtype: bool"
      ]
     },
     "execution_count": 43,
     "metadata": {},
     "output_type": "execute_result"
    }
   ],
   "source": [
    "# keeping this as it is\n",
    "dataset['different_room_assigned']"
   ]
  },
  {
   "cell_type": "code",
   "execution_count": 44,
   "metadata": {},
   "outputs": [],
   "source": [
    "# encoding categorical features using one hot encoding. \n",
    "# so that causalnex and other algorithms can work on the numeric data. \n",
    "le = LabelEncoder()\n",
    "non_numeric_columns = ['lead_time','previous_cancellations', 'booking_changes', 'days_in_waiting_list',\n",
    "                       'arrival_season','previous_bookings_retention']\n",
    "for col in non_numeric_columns:\n",
    "    dataset[col] = le.fit_transform(dataset[col])"
   ]
  },
  {
   "cell_type": "code",
   "execution_count": 45,
   "metadata": {},
   "outputs": [
    {
     "data": {
      "text/html": [
       "<div>\n",
       "<style scoped>\n",
       "    .dataframe tbody tr th:only-of-type {\n",
       "        vertical-align: middle;\n",
       "    }\n",
       "\n",
       "    .dataframe tbody tr th {\n",
       "        vertical-align: top;\n",
       "    }\n",
       "\n",
       "    .dataframe thead th {\n",
       "        text-align: right;\n",
       "    }\n",
       "</style>\n",
       "<table border=\"1\" class=\"dataframe\">\n",
       "  <thead>\n",
       "    <tr style=\"text-align: right;\">\n",
       "      <th></th>\n",
       "      <th>is_canceled</th>\n",
       "      <th>lead_time</th>\n",
       "      <th>is_repeated_guest</th>\n",
       "      <th>previous_cancellations</th>\n",
       "      <th>booking_changes</th>\n",
       "      <th>deposit</th>\n",
       "      <th>days_in_waiting_list</th>\n",
       "      <th>adr</th>\n",
       "      <th>total_stay</th>\n",
       "      <th>guests</th>\n",
       "      <th>different_room_assigned</th>\n",
       "      <th>arrival_season</th>\n",
       "      <th>previous_bookings_retention</th>\n",
       "      <th>required_car_parking</th>\n",
       "      <th>special_requests_made</th>\n",
       "    </tr>\n",
       "  </thead>\n",
       "  <tbody>\n",
       "    <tr>\n",
       "      <th>0</th>\n",
       "      <td>False</td>\n",
       "      <td>3</td>\n",
       "      <td>0</td>\n",
       "      <td>1</td>\n",
       "      <td>2</td>\n",
       "      <td>False</td>\n",
       "      <td>3</td>\n",
       "      <td>-2.015123</td>\n",
       "      <td>0</td>\n",
       "      <td>2.0</td>\n",
       "      <td>False</td>\n",
       "      <td>2</td>\n",
       "      <td>1</td>\n",
       "      <td>False</td>\n",
       "      <td>False</td>\n",
       "    </tr>\n",
       "    <tr>\n",
       "      <th>1</th>\n",
       "      <td>False</td>\n",
       "      <td>3</td>\n",
       "      <td>0</td>\n",
       "      <td>1</td>\n",
       "      <td>2</td>\n",
       "      <td>False</td>\n",
       "      <td>3</td>\n",
       "      <td>-2.015123</td>\n",
       "      <td>0</td>\n",
       "      <td>2.0</td>\n",
       "      <td>False</td>\n",
       "      <td>2</td>\n",
       "      <td>1</td>\n",
       "      <td>False</td>\n",
       "      <td>False</td>\n",
       "    </tr>\n",
       "    <tr>\n",
       "      <th>2</th>\n",
       "      <td>False</td>\n",
       "      <td>1</td>\n",
       "      <td>0</td>\n",
       "      <td>1</td>\n",
       "      <td>3</td>\n",
       "      <td>False</td>\n",
       "      <td>3</td>\n",
       "      <td>-0.530993</td>\n",
       "      <td>1</td>\n",
       "      <td>1.0</td>\n",
       "      <td>True</td>\n",
       "      <td>2</td>\n",
       "      <td>1</td>\n",
       "      <td>False</td>\n",
       "      <td>False</td>\n",
       "    </tr>\n",
       "    <tr>\n",
       "      <th>3</th>\n",
       "      <td>False</td>\n",
       "      <td>1</td>\n",
       "      <td>0</td>\n",
       "      <td>1</td>\n",
       "      <td>3</td>\n",
       "      <td>False</td>\n",
       "      <td>3</td>\n",
       "      <td>-0.530993</td>\n",
       "      <td>1</td>\n",
       "      <td>1.0</td>\n",
       "      <td>False</td>\n",
       "      <td>2</td>\n",
       "      <td>1</td>\n",
       "      <td>False</td>\n",
       "      <td>False</td>\n",
       "    </tr>\n",
       "    <tr>\n",
       "      <th>4</th>\n",
       "      <td>False</td>\n",
       "      <td>1</td>\n",
       "      <td>0</td>\n",
       "      <td>1</td>\n",
       "      <td>3</td>\n",
       "      <td>False</td>\n",
       "      <td>3</td>\n",
       "      <td>-0.075860</td>\n",
       "      <td>2</td>\n",
       "      <td>2.0</td>\n",
       "      <td>False</td>\n",
       "      <td>2</td>\n",
       "      <td>1</td>\n",
       "      <td>False</td>\n",
       "      <td>True</td>\n",
       "    </tr>\n",
       "  </tbody>\n",
       "</table>\n",
       "</div>"
      ],
      "text/plain": [
       "   is_canceled  lead_time  is_repeated_guest  previous_cancellations  \\\n",
       "0        False          3                  0                       1   \n",
       "1        False          3                  0                       1   \n",
       "2        False          1                  0                       1   \n",
       "3        False          1                  0                       1   \n",
       "4        False          1                  0                       1   \n",
       "\n",
       "   booking_changes  deposit  days_in_waiting_list       adr  total_stay  \\\n",
       "0                2    False                     3 -2.015123           0   \n",
       "1                2    False                     3 -2.015123           0   \n",
       "2                3    False                     3 -0.530993           1   \n",
       "3                3    False                     3 -0.530993           1   \n",
       "4                3    False                     3 -0.075860           2   \n",
       "\n",
       "   guests  different_room_assigned  arrival_season  \\\n",
       "0     2.0                    False               2   \n",
       "1     2.0                    False               2   \n",
       "2     1.0                     True               2   \n",
       "3     1.0                    False               2   \n",
       "4     2.0                    False               2   \n",
       "\n",
       "   previous_bookings_retention  required_car_parking  special_requests_made  \n",
       "0                            1                 False                  False  \n",
       "1                            1                 False                  False  \n",
       "2                            1                 False                  False  \n",
       "3                            1                 False                  False  \n",
       "4                            1                 False                   True  "
      ]
     },
     "execution_count": 45,
     "metadata": {},
     "output_type": "execute_result"
    }
   ],
   "source": [
    "dataset.head()"
   ]
  },
  {
   "cell_type": "markdown",
   "metadata": {},
   "source": [
    "# Causal discovery: Infering causal structure from data\n",
    "\n",
    "We will use following algorithms to create the causal graph:\n",
    "* notears\n",
    "* PC(peter-clerk) algo\n",
    "* GES algo\n",
    "* do-why "
   ]
  },
  {
   "cell_type": "code",
   "execution_count": 46,
   "metadata": {},
   "outputs": [],
   "source": [
    "struct_data = dataset.copy(deep=True)"
   ]
  },
  {
   "cell_type": "code",
   "execution_count": 47,
   "metadata": {},
   "outputs": [
    {
     "data": {
      "text/html": [
       "<div>\n",
       "<style scoped>\n",
       "    .dataframe tbody tr th:only-of-type {\n",
       "        vertical-align: middle;\n",
       "    }\n",
       "\n",
       "    .dataframe tbody tr th {\n",
       "        vertical-align: top;\n",
       "    }\n",
       "\n",
       "    .dataframe thead th {\n",
       "        text-align: right;\n",
       "    }\n",
       "</style>\n",
       "<table border=\"1\" class=\"dataframe\">\n",
       "  <thead>\n",
       "    <tr style=\"text-align: right;\">\n",
       "      <th></th>\n",
       "      <th>is_canceled</th>\n",
       "      <th>lead_time</th>\n",
       "      <th>is_repeated_guest</th>\n",
       "      <th>previous_cancellations</th>\n",
       "      <th>booking_changes</th>\n",
       "      <th>deposit</th>\n",
       "      <th>days_in_waiting_list</th>\n",
       "      <th>adr</th>\n",
       "      <th>total_stay</th>\n",
       "      <th>guests</th>\n",
       "      <th>different_room_assigned</th>\n",
       "      <th>arrival_season</th>\n",
       "      <th>previous_bookings_retention</th>\n",
       "      <th>required_car_parking</th>\n",
       "      <th>special_requests_made</th>\n",
       "    </tr>\n",
       "  </thead>\n",
       "  <tbody>\n",
       "    <tr>\n",
       "      <th>0</th>\n",
       "      <td>False</td>\n",
       "      <td>3</td>\n",
       "      <td>0</td>\n",
       "      <td>1</td>\n",
       "      <td>2</td>\n",
       "      <td>False</td>\n",
       "      <td>3</td>\n",
       "      <td>-2.015123</td>\n",
       "      <td>0</td>\n",
       "      <td>2.0</td>\n",
       "      <td>False</td>\n",
       "      <td>2</td>\n",
       "      <td>1</td>\n",
       "      <td>False</td>\n",
       "      <td>False</td>\n",
       "    </tr>\n",
       "    <tr>\n",
       "      <th>1</th>\n",
       "      <td>False</td>\n",
       "      <td>3</td>\n",
       "      <td>0</td>\n",
       "      <td>1</td>\n",
       "      <td>2</td>\n",
       "      <td>False</td>\n",
       "      <td>3</td>\n",
       "      <td>-2.015123</td>\n",
       "      <td>0</td>\n",
       "      <td>2.0</td>\n",
       "      <td>False</td>\n",
       "      <td>2</td>\n",
       "      <td>1</td>\n",
       "      <td>False</td>\n",
       "      <td>False</td>\n",
       "    </tr>\n",
       "    <tr>\n",
       "      <th>2</th>\n",
       "      <td>False</td>\n",
       "      <td>1</td>\n",
       "      <td>0</td>\n",
       "      <td>1</td>\n",
       "      <td>3</td>\n",
       "      <td>False</td>\n",
       "      <td>3</td>\n",
       "      <td>-0.530993</td>\n",
       "      <td>1</td>\n",
       "      <td>1.0</td>\n",
       "      <td>True</td>\n",
       "      <td>2</td>\n",
       "      <td>1</td>\n",
       "      <td>False</td>\n",
       "      <td>False</td>\n",
       "    </tr>\n",
       "    <tr>\n",
       "      <th>3</th>\n",
       "      <td>False</td>\n",
       "      <td>1</td>\n",
       "      <td>0</td>\n",
       "      <td>1</td>\n",
       "      <td>3</td>\n",
       "      <td>False</td>\n",
       "      <td>3</td>\n",
       "      <td>-0.530993</td>\n",
       "      <td>1</td>\n",
       "      <td>1.0</td>\n",
       "      <td>False</td>\n",
       "      <td>2</td>\n",
       "      <td>1</td>\n",
       "      <td>False</td>\n",
       "      <td>False</td>\n",
       "    </tr>\n",
       "    <tr>\n",
       "      <th>4</th>\n",
       "      <td>False</td>\n",
       "      <td>1</td>\n",
       "      <td>0</td>\n",
       "      <td>1</td>\n",
       "      <td>3</td>\n",
       "      <td>False</td>\n",
       "      <td>3</td>\n",
       "      <td>-0.075860</td>\n",
       "      <td>2</td>\n",
       "      <td>2.0</td>\n",
       "      <td>False</td>\n",
       "      <td>2</td>\n",
       "      <td>1</td>\n",
       "      <td>False</td>\n",
       "      <td>True</td>\n",
       "    </tr>\n",
       "    <tr>\n",
       "      <th>...</th>\n",
       "      <td>...</td>\n",
       "      <td>...</td>\n",
       "      <td>...</td>\n",
       "      <td>...</td>\n",
       "      <td>...</td>\n",
       "      <td>...</td>\n",
       "      <td>...</td>\n",
       "      <td>...</td>\n",
       "      <td>...</td>\n",
       "      <td>...</td>\n",
       "      <td>...</td>\n",
       "      <td>...</td>\n",
       "      <td>...</td>\n",
       "      <td>...</td>\n",
       "      <td>...</td>\n",
       "    </tr>\n",
       "    <tr>\n",
       "      <th>119385</th>\n",
       "      <td>False</td>\n",
       "      <td>1</td>\n",
       "      <td>0</td>\n",
       "      <td>1</td>\n",
       "      <td>3</td>\n",
       "      <td>False</td>\n",
       "      <td>3</td>\n",
       "      <td>-0.112666</td>\n",
       "      <td>7</td>\n",
       "      <td>2.0</td>\n",
       "      <td>False</td>\n",
       "      <td>2</td>\n",
       "      <td>1</td>\n",
       "      <td>False</td>\n",
       "      <td>False</td>\n",
       "    </tr>\n",
       "    <tr>\n",
       "      <th>119386</th>\n",
       "      <td>False</td>\n",
       "      <td>2</td>\n",
       "      <td>0</td>\n",
       "      <td>1</td>\n",
       "      <td>3</td>\n",
       "      <td>False</td>\n",
       "      <td>3</td>\n",
       "      <td>2.445776</td>\n",
       "      <td>7</td>\n",
       "      <td>3.0</td>\n",
       "      <td>False</td>\n",
       "      <td>2</td>\n",
       "      <td>1</td>\n",
       "      <td>False</td>\n",
       "      <td>True</td>\n",
       "    </tr>\n",
       "    <tr>\n",
       "      <th>119387</th>\n",
       "      <td>False</td>\n",
       "      <td>0</td>\n",
       "      <td>0</td>\n",
       "      <td>1</td>\n",
       "      <td>3</td>\n",
       "      <td>False</td>\n",
       "      <td>3</td>\n",
       "      <td>1.105706</td>\n",
       "      <td>7</td>\n",
       "      <td>2.0</td>\n",
       "      <td>False</td>\n",
       "      <td>2</td>\n",
       "      <td>1</td>\n",
       "      <td>False</td>\n",
       "      <td>True</td>\n",
       "    </tr>\n",
       "    <tr>\n",
       "      <th>119388</th>\n",
       "      <td>False</td>\n",
       "      <td>2</td>\n",
       "      <td>0</td>\n",
       "      <td>1</td>\n",
       "      <td>3</td>\n",
       "      <td>False</td>\n",
       "      <td>3</td>\n",
       "      <td>0.050786</td>\n",
       "      <td>7</td>\n",
       "      <td>2.0</td>\n",
       "      <td>False</td>\n",
       "      <td>2</td>\n",
       "      <td>1</td>\n",
       "      <td>False</td>\n",
       "      <td>False</td>\n",
       "    </tr>\n",
       "    <tr>\n",
       "      <th>119389</th>\n",
       "      <td>False</td>\n",
       "      <td>3</td>\n",
       "      <td>0</td>\n",
       "      <td>1</td>\n",
       "      <td>3</td>\n",
       "      <td>False</td>\n",
       "      <td>3</td>\n",
       "      <td>0.976883</td>\n",
       "      <td>9</td>\n",
       "      <td>2.0</td>\n",
       "      <td>False</td>\n",
       "      <td>2</td>\n",
       "      <td>1</td>\n",
       "      <td>False</td>\n",
       "      <td>True</td>\n",
       "    </tr>\n",
       "  </tbody>\n",
       "</table>\n",
       "<p>119386 rows × 15 columns</p>\n",
       "</div>"
      ],
      "text/plain": [
       "        is_canceled  lead_time  is_repeated_guest  previous_cancellations  \\\n",
       "0             False          3                  0                       1   \n",
       "1             False          3                  0                       1   \n",
       "2             False          1                  0                       1   \n",
       "3             False          1                  0                       1   \n",
       "4             False          1                  0                       1   \n",
       "...             ...        ...                ...                     ...   \n",
       "119385        False          1                  0                       1   \n",
       "119386        False          2                  0                       1   \n",
       "119387        False          0                  0                       1   \n",
       "119388        False          2                  0                       1   \n",
       "119389        False          3                  0                       1   \n",
       "\n",
       "        booking_changes  deposit  days_in_waiting_list       adr  total_stay  \\\n",
       "0                     2    False                     3 -2.015123           0   \n",
       "1                     2    False                     3 -2.015123           0   \n",
       "2                     3    False                     3 -0.530993           1   \n",
       "3                     3    False                     3 -0.530993           1   \n",
       "4                     3    False                     3 -0.075860           2   \n",
       "...                 ...      ...                   ...       ...         ...   \n",
       "119385                3    False                     3 -0.112666           7   \n",
       "119386                3    False                     3  2.445776           7   \n",
       "119387                3    False                     3  1.105706           7   \n",
       "119388                3    False                     3  0.050786           7   \n",
       "119389                3    False                     3  0.976883           9   \n",
       "\n",
       "        guests  different_room_assigned  arrival_season  \\\n",
       "0          2.0                    False               2   \n",
       "1          2.0                    False               2   \n",
       "2          1.0                     True               2   \n",
       "3          1.0                    False               2   \n",
       "4          2.0                    False               2   \n",
       "...        ...                      ...             ...   \n",
       "119385     2.0                    False               2   \n",
       "119386     3.0                    False               2   \n",
       "119387     2.0                    False               2   \n",
       "119388     2.0                    False               2   \n",
       "119389     2.0                    False               2   \n",
       "\n",
       "        previous_bookings_retention  required_car_parking  \\\n",
       "0                                 1                 False   \n",
       "1                                 1                 False   \n",
       "2                                 1                 False   \n",
       "3                                 1                 False   \n",
       "4                                 1                 False   \n",
       "...                             ...                   ...   \n",
       "119385                            1                 False   \n",
       "119386                            1                 False   \n",
       "119387                            1                 False   \n",
       "119388                            1                 False   \n",
       "119389                            1                 False   \n",
       "\n",
       "        special_requests_made  \n",
       "0                       False  \n",
       "1                       False  \n",
       "2                       False  \n",
       "3                       False  \n",
       "4                        True  \n",
       "...                       ...  \n",
       "119385                  False  \n",
       "119386                   True  \n",
       "119387                   True  \n",
       "119388                  False  \n",
       "119389                   True  \n",
       "\n",
       "[119386 rows x 15 columns]"
      ]
     },
     "execution_count": 47,
     "metadata": {},
     "output_type": "execute_result"
    }
   ],
   "source": [
    "struct_data"
   ]
  },
  {
   "cell_type": "code",
   "execution_count": 48,
   "metadata": {},
   "outputs": [],
   "source": [
    "# converting boolean features to numeric for the notears algo to use. \n",
    "struct_data['is_canceled'] = struct_data['is_canceled'].astype(int)\n",
    "struct_data['deposit'] = struct_data['deposit'].astype(int)\n",
    "struct_data['different_room_assigned'] = struct_data['different_room_assigned'].astype(int)\n",
    "struct_data['required_car_parking'] = struct_data['required_car_parking'].astype(int)\n",
    "struct_data['special_requests_made'] = struct_data['special_requests_made'].astype(int)"
   ]
  },
  {
   "cell_type": "code",
   "execution_count": 49,
   "metadata": {},
   "outputs": [
    {
     "data": {
      "text/plain": [
       "3    115688\n",
       "0      2138\n",
       "2       968\n",
       "1       592\n",
       "Name: days_in_waiting_list, dtype: int64"
      ]
     },
     "execution_count": 49,
     "metadata": {},
     "output_type": "execute_result"
    }
   ],
   "source": [
    "struct_data['days_in_waiting_list'].value_counts()"
   ]
  },
  {
   "cell_type": "code",
   "execution_count": null,
   "metadata": {},
   "outputs": [],
   "source": [
    "sm = from_pandas(struct_data)\n",
    "sm.remove_edges_below_threshold(0.8)"
   ]
  },
  {
   "cell_type": "code",
   "execution_count": null,
   "metadata": {},
   "outputs": [],
   "source": [
    "sm_largest = sm.get_largest_subgraph()\n",
    "fig, ax = plt.subplots(figsize=(10,10))\n",
    "nx.draw_circular(sm_largest, ax=ax, with_labels=True)\n",
    "fig.show()"
   ]
  },
  {
   "cell_type": "code",
   "execution_count": null,
   "metadata": {},
   "outputs": [],
   "source": [
    "#creating bayesian network\n",
    "bn = BayesianNetwork(sm_largest)"
   ]
  },
  {
   "cell_type": "markdown",
   "metadata": {},
   "source": [
    "## causal graph using PC algo, GIES algo with cdt library\n",
    "\n",
    "Following shows the cdt libray with PC, GES, GIES algorithms and the causal graphs created by them. "
   ]
  },
  {
   "cell_type": "markdown",
   "metadata": {},
   "source": [
    "<h2>Glasso</h2>\n",
    "<p>Graphical Lasso to find an adjacency matrix</p>"
   ]
  },
  {
   "cell_type": "code",
   "execution_count": null,
   "metadata": {},
   "outputs": [],
   "source": [
    "glasso = cdt.independence.graph.Glasso()\n",
    "skeleton = glasso.predict(struct_data)\n",
    "# visualize network\n",
    "fig=plt.figure(figsize=(15,10))\n",
    "#nx.draw_networkx(skeleton, font_size=18, font_color='r')\n",
    "pos = nx.draw_circular(skeleton, with_labels = True)\n",
    "nx.draw(skeleton, pos = pos,ax=ax, with_labels=True,node_size = 600, font_size = 20)"
   ]
  },
  {
   "cell_type": "code",
   "execution_count": null,
   "metadata": {},
   "outputs": [],
   "source": [
    "cdt.SETTINGS.rpath = 'C:/Program Files/R/R-4.2.2/bin/Rscript'"
   ]
  },
  {
   "cell_type": "markdown",
   "metadata": {},
   "source": [
    "<h2>PC Algorithm</h2>"
   ]
  },
  {
   "cell_type": "code",
   "execution_count": null,
   "metadata": {},
   "outputs": [],
   "source": [
    "model_pc = cdt.causality.graph.PC(alpha='0.9')\n",
    "graph_pc = model_pc.predict(struct_data, skeleton)\n",
    "#orient_undirected_graph = cdt.causality.graph.PC.orient_undirected_graph(,data=struct_data,graph=graph_pc)\n",
    "\n",
    "fig=plt.figure(figsize=(15,10))\n",
    "#nx.draw_networkx(graph_pc, font_size=18, font_color='r')\n",
    "pos = nx.draw_circular(graph_pc, with_labels = True)\n",
    "nx.draw(graph_pc, pos = pos,ax=ax, with_labels=True,node_size = 600, font_size = 20)\n",
    "a_graph = nx.nx_agraph.to_agraph(graph_pc)\n",
    "d_graph = graph_pc.to_directed()\n",
    "#pos = nx.draw_circular(d_graph, with_labels = True)\n",
    "#nx.draw(d_graph, pos = pos,ax=ax, with_labels=True,node_size = 600, font_size = 20)\n",
    "#print(nx.is_directed_acyclic_graph(d_graph))\n",
    "#print(a_graph)"
   ]
  },
  {
   "cell_type": "markdown",
   "metadata": {},
   "source": [
    "<h1>GES</h1>\n",
    "<p> Greedy Search Algo (score-based)<p>"
   ]
  },
  {
   "cell_type": "code",
   "execution_count": null,
   "metadata": {},
   "outputs": [],
   "source": [
    "model_ges = cdt.causality.graph.GES()\n",
    "graph_ges = model_ges.predict(struct_data, skeleton)\n",
    "\n",
    "fig, ax = plt.subplots(figsize=(20,15))\n",
    "#fig=plt.figure(figsize=(20,15))\n",
    "#nx.draw_networkx(graph_ges, font_size=18, font_color='r' , arrows = True,node_size = 200)\n",
    "nx.draw_circular(graph_ges, ax=ax, with_labels=True,node_size = 400, font_size = 18)\n",
    "# get adjaceny matrix of GES graph\n",
    "A_ges = nx.adjacency_matrix(graph_ges).todense()"
   ]
  },
  {
   "cell_type": "markdown",
   "metadata": {},
   "source": [
    "<h2>GIES</h2>\n",
    "<p>Score Based algorithm</p>"
   ]
  },
  {
   "cell_type": "code",
   "execution_count": null,
   "metadata": {},
   "outputs": [],
   "source": [
    "model_GIES = cdt.causality.graph.GIES()\n",
    "graph_GIES = model_GIES.predict(struct_data)\n",
    "\n",
    "fig=plt.figure(figsize=(15,10))\n",
    "#nx.draw_networkx(graph_CCDr, font_size=18, font_color='r')\n",
    "pos = nx.draw_circular(graph_GIES, with_labels = True)\n",
    "nx.draw(graph_GIES, pos = pos,ax=ax, with_labels=True,node_size = 600, font_size = 20)\n",
    "\n",
    "A_CCDr = nx.adjacency_matrix(graph_GIES).todense()"
   ]
  },
  {
   "cell_type": "markdown",
   "metadata": {},
   "source": [
    "<h2>CCDr</h2>\n",
    "<ul>\n",
    "    <li>Concave penalized Coordinate Descent with reparametrization)</li>\n",
    "    <li>score based method for learning Bayesian networks that uses sparse regularization and block-cyclic coordinate descent.</li>\n",
    "</ul>"
   ]
  },
  {
   "cell_type": "code",
   "execution_count": null,
   "metadata": {},
   "outputs": [],
   "source": [
    "model_CCDr = cdt.causality.graph.CCDr()\n",
    "graph_CCDr = model_CCDr.predict(struct_data)\n",
    "\n",
    "fig=plt.figure(figsize=(15,10))\n",
    "#nx.draw_networkx(graph_CCDr, font_size=18, font_color='r')\n",
    "pos = nx.draw_circular(graph_CCDr, with_labels = True)\n",
    "nx.draw(graph_CCDr, pos = pos,ax=ax, with_labels=True,node_size = 600, font_size = 20)\n",
    "\n",
    "A_CCDr = nx.adjacency_matrix(graph_CCDr).todense()"
   ]
  },
  {
   "cell_type": "markdown",
   "metadata": {},
   "source": [
    "<h2>LiNGAM</h2>\n",
    "<p>Exploiting Assymetry</p>"
   ]
  },
  {
   "cell_type": "code",
   "execution_count": null,
   "metadata": {},
   "outputs": [],
   "source": [
    "model_lingam = cdt.causality.graph.LiNGAM()\n",
    "graph_lingam = model_lingam.predict(struct_data)\n",
    "\n",
    "fig=plt.figure(figsize=(15,10))\n",
    "#nx.draw_networkx(graph_lingam, font_size=18, font_color='r')\n",
    "pos = nx.draw_circular(graph_lingam, with_labels = True)\n",
    "nx.draw(graph_lingam, pos = pos,ax=ax, with_labels=True,node_size = 600, font_size = 20)\n",
    "\n",
    "A_lingam = nx.adjacency_matrix(graph_lingam).todense()"
   ]
  },
  {
   "cell_type": "markdown",
   "metadata": {},
   "source": [
    "<h2>Dowhy</h2>\n",
    "<p> Creation of the model based on the graph obtained through notears algorithm</p>"
   ]
  },
  {
   "cell_type": "code",
   "execution_count": null,
   "metadata": {},
   "outputs": [],
   "source": [
    "#create the dot graph given by the notears algorithm\n",
    "dot_graph = graphviz.Digraph()\n",
    "\n",
    "#add attributes to the graph\n",
    "dot_graph.graph_attr['rankdir'] = 'LR'\n",
    "\n",
    "#add nodes to the graph\n",
    "dot_graph.node('U', 'Unobserved Confounders')\n",
    "dot_graph.node('is_repeated_guest', 'Repeated Guest')\n",
    "dot_graph.node('lead_time', 'Lead Time')\n",
    "dot_graph.node('is_canceled', 'Is Canceled')\n",
    "dot_graph.node('previous_bookings_retention', 'Previous Bookings Retention')\n",
    "dot_graph.node('total_stay', 'Total Stay')\n",
    "dot_graph.node('days_in_waiting_list', 'Days in Waiting List')\n",
    "dot_graph.node('deposit', 'Deposit')\n",
    "dot_graph.node('previous_cancellations', 'Previous Cancellations')\n",
    "\n",
    "#add edges to the graph\n",
    "dot_graph.edge('U','lead_time')\n",
    "dot_graph.edge('U','is_canceled')\n",
    "dot_graph.edge('is_repeated_guest', 'total_stay')\n",
    "dot_graph.edge('lead_time', 'days_in_waiting_list')\n",
    "dot_graph.edge('previous_bookings_retention', 'previous_cancellations')\n",
    "dot_graph.edge('previous_bookings_retention', 'total_stay')\n",
    "dot_graph.edge('days_in_waiting_list', 'is_canceled')\n",
    "dot_graph.edge('deposit', 'is_canceled')\n",
    "dot_graph.edge('deposit', 'total_stay')\n",
    "dot_graph.edge('previous_cancellations', 'days_in_waiting_list')\n",
    "dot_graph.edge('previous_cancellations', 'is_canceled')\n",
    "dot_graph.edge('previous_cancellations', 'total_stay')\n",
    "dot_graph.edge('previous_cancellations', 'lead_time')\n",
    "dot_graph.edge('lead_time', 'is_canceled')\n",
    "dot_graph.edge('deposit', 'lead_time')\n",
    "dot_graph.edge('is_repeated_guest', 'is_canceled')\n",
    "\n",
    "#display the graph\n",
    "dot_graph.render('notears_graph', view=True)\n",
    "dot_graph.save('notears_graph.dot')"
   ]
  },
  {
   "cell_type": "code",
   "execution_count": null,
   "metadata": {},
   "outputs": [],
   "source": [
    "#create model for the dowhy (treatment -> deposit, outcome -> is_canceled)\n",
    "model_deposit= dowhy.CausalModel(\n",
    "        data = struct_data,\n",
    "        graph='./notears_graph.dot',\n",
    "        treatment='deposit',\n",
    "        outcome='is_canceled')\n",
    "model_deposit.view_model(layout='dot')\n",
    "display(Image(filename=\"causal_model.png\"))"
   ]
  },
  {
   "cell_type": "code",
   "execution_count": null,
   "metadata": {},
   "outputs": [],
   "source": [
    "#identification of the causal effects for the model (treatment -> deposit, outcome -> is_canceled)\n",
    "identified_estimand_deposit = model_deposit.identify_effect(proceed_when_unidentifiable=True,method_name='exhaustive-search')\n",
    "print(identified_estimand_deposit)"
   ]
  },
  {
   "cell_type": "code",
   "execution_count": null,
   "metadata": {},
   "outputs": [],
   "source": [
    "#model_deposit, estimation method --> backdoor linear regression\n",
    "\n",
    "estimate_deposit_linear = model_deposit.estimate_effect(identified_estimand_deposit, \n",
    "                             method_name='backdoor.linear_regression',target_units=\"att\")\n",
    "print(estimate_deposit_linear)"
   ]
  },
  {
   "cell_type": "code",
   "execution_count": null,
   "metadata": {},
   "outputs": [],
   "source": [
    "#refutation of the deposit model using random_common_cause\n",
    "refute1_results_deposit=model_deposit.refute_estimate(identified_estimand_deposit, estimate_deposit_linear,\n",
    "        method_name=\"random_common_cause\")\n",
    "print(refute1_results_deposit)"
   ]
  },
  {
   "cell_type": "code",
   "execution_count": null,
   "metadata": {},
   "outputs": [],
   "source": [
    "#refutation of the deposit model using placebo treatment\n",
    "deposit_refute_placebo_treatment = model_deposit.refute_estimate(\n",
    "                                    identified_estimand_deposit,\n",
    "                                    estimate_deposit_linear,\n",
    "                                    method_name=\"placebo_treatment_refuter\",\n",
    "                                    placebo_type=\"permute\"\n",
    "                                )\n",
    "print(deposit_refute_placebo_treatment)"
   ]
  },
  {
   "cell_type": "code",
   "execution_count": null,
   "metadata": {},
   "outputs": [],
   "source": [
    "#create model for the dowhy (treatment -> prev_cancellations, outcome -> is_canceled)\n",
    "model_prev_canc= dowhy.CausalModel(\n",
    "        data = struct_data,\n",
    "        graph='./notears_graph.dot',\n",
    "        treatment='previous_cancellations',\n",
    "        outcome='is_canceled')\n",
    "model_prev_canc.view_model(layout='dot')\n",
    "display(Image(filename=\"causal_model.png\"))"
   ]
  },
  {
   "cell_type": "code",
   "execution_count": null,
   "metadata": {},
   "outputs": [],
   "source": [
    "#identification of the causal effects (treatment -> prev_cancellations, outcome -> is_canceled)\n",
    "identified_estimand_prev_canc = model_prev_canc.identify_effect(proceed_when_unidentifiable=True,method_name='exhaustive-search')\n",
    "print(identified_estimand_prev_canc)"
   ]
  },
  {
   "cell_type": "code",
   "execution_count": null,
   "metadata": {},
   "outputs": [],
   "source": [
    "#backdoor linear regression (treatment -> prev_cancellations, outcome -> is_canceled)\n",
    "estimate_prev_canc_linear = model_prev_canc.estimate_effect(identified_estimand_prev_canc, \n",
    "                             method_name='backdoor.linear_regression',target_units=\"att\")\n",
    "print(estimate_prev_canc_linear)"
   ]
  },
  {
   "cell_type": "code",
   "execution_count": null,
   "metadata": {},
   "outputs": [],
   "source": [
    "#refute of the previous_cancellations model using random_common_cause\n",
    "refute1_results_prev_canc=model_prev_canc.refute_estimate(identified_estimand_prev_canc, estimate_prev_canc_linear,\n",
    "        method_name=\"random_common_cause\")\n",
    "print(refute1_results_prev_canc)"
   ]
  },
  {
   "cell_type": "code",
   "execution_count": null,
   "metadata": {},
   "outputs": [],
   "source": [
    "#refute of previous_cancellation model using placebo_treatment\n",
    "prev_canc_refute_placebo_treatment = model_prev_canc.refute_estimate(\n",
    "                                    identified_estimand_prev_canc,\n",
    "                                    estimate_prev_canc_linear,\n",
    "                                    method_name=\"placebo_treatment_refuter\",\n",
    "                                    placebo_type=\"permute\"\n",
    "                                )\n",
    "print(prev_canc_refute_placebo_treatment)"
   ]
  },
  {
   "cell_type": "code",
   "execution_count": null,
   "metadata": {},
   "outputs": [],
   "source": [
    "#create model for the dowhy (treatment -> is_repeated_guest, outcome -> is_canceled)\n",
    "model_is_repeated= dowhy.CausalModel(\n",
    "        data = struct_data,\n",
    "        graph='./notears_graph.dot',\n",
    "        treatment='is_repeated_guest',\n",
    "        outcome='is_canceled')\n",
    "model_is_repeated.view_model()\n",
    "display(Image(filename=\"causal_model.png\"))"
   ]
  },
  {
   "cell_type": "code",
   "execution_count": null,
   "metadata": {},
   "outputs": [],
   "source": [
    "#identify the effect for the model (treatment -> is_repeated_guest, outcome -> is_canceled)\n",
    "identified_is_repeated = model_is_repeated.identify_effect(proceed_when_unidentifiable=True,method_name='exhaustive-search')\n",
    "print(identified_is_repeated)"
   ]
  },
  {
   "cell_type": "code",
   "execution_count": null,
   "metadata": {},
   "outputs": [],
   "source": [
    "#estimation using backdoor.linear_regression\n",
    "estimate_is_repeated_linear = model_is_repeated.estimate_effect(identified_is_repeated, \n",
    "                             method_name='backdoor.linear_regression',target_units=\"att\")\n",
    "print(estimate_is_repeated_linear)"
   ]
  },
  {
   "cell_type": "code",
   "execution_count": null,
   "metadata": {},
   "outputs": [],
   "source": [
    "#refute is_repeated_guest using random_common_cause\n",
    "refute1_results_is_repeated=model_is_repeated.refute_estimate(identified_is_repeated, estimate_is_repeated_linear,\n",
    "        method_name=\"random_common_cause\")\n",
    "print(refute1_results_is_repeated)"
   ]
  },
  {
   "cell_type": "code",
   "execution_count": null,
   "metadata": {},
   "outputs": [],
   "source": [
    "#refute placebo_treatment model --> is_repeated_guest\n",
    "is_repeated_refute_placebo_treatment = model_is_repeated.refute_estimate(\n",
    "                                    identified_is_repeated,\n",
    "                                    estimate_is_repeated_linear,\n",
    "                                    method_name=\"placebo_treatment_refuter\",\n",
    "                                    placebo_type=\"permute\"\n",
    "                                )\n",
    "print(is_repeated_refute_placebo_treatment)\n"
   ]
  }
 ],
 "metadata": {
  "kernelspec": {
   "display_name": "Python 3",
   "language": "python",
   "name": "python3"
  },
  "language_info": {
   "codemirror_mode": {
    "name": "ipython",
    "version": 3
   },
   "file_extension": ".py",
   "mimetype": "text/x-python",
   "name": "python",
   "nbconvert_exporter": "python",
   "pygments_lexer": "ipython3",
   "version": "3.8.8"
  },
  "vscode": {
   "interpreter": {
    "hash": "9c674d180e4c6bf93d99074f9d9a04ff100b36a022f258e23cd07c2e74a756e4"
   }
  }
 },
 "nbformat": 4,
 "nbformat_minor": 2
}
